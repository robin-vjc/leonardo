{
 "cells": [
  {
   "cell_type": "code",
   "execution_count": 1,
   "id": "d5445512",
   "metadata": {},
   "outputs": [],
   "source": [
    "import os\n",
    "from pathlib import Path\n",
    "import random\n",
    "import sys\n",
    "\n",
    "sys.path.append(\"../\")\n",
    "\n",
    "import matplotlib.pyplot as plt\n",
    "from leonardo.processing import get_pipeline, load_image, get_config\n",
    "\n",
    "config = get_config()\n",
    "%load_ext autoreload\n",
    "%autoreload 2"
   ]
  },
  {
   "cell_type": "code",
   "execution_count": 2,
   "id": "cfc64023",
   "metadata": {},
   "outputs": [],
   "source": [
    "prompt = \"Futuristic style, trending on artstation\"\n",
    "images_folder = Path(\"../data/images/\")\n",
    "output_folder = Path(\"../data/output/\")\n",
    "\n",
    "width = 128\n",
    "strength = 0.2\n",
    "guidance_scale = 1.5"
   ]
  },
  {
   "cell_type": "code",
   "execution_count": null,
   "id": "06e8d4e1",
   "metadata": {},
   "outputs": [
    {
     "data": {
      "application/vnd.jupyter.widget-view+json": {
       "model_id": "c6bcaa82a2d24580b40257d98fa3a3da",
       "version_major": 2,
       "version_minor": 0
      },
      "text/plain": [
       "  0%|          | 0/10 [00:00<?, ?it/s]"
      ]
     },
     "metadata": {},
     "output_type": "display_data"
    },
    {
     "data": {
      "application/vnd.jupyter.widget-view+json": {
       "model_id": "188ecc729e804f18b83e97e5370c444b",
       "version_major": 2,
       "version_minor": 0
      },
      "text/plain": [
       "  0%|          | 0/10 [00:00<?, ?it/s]"
      ]
     },
     "metadata": {},
     "output_type": "display_data"
    }
   ],
   "source": [
    "images_files = os.listdir(images_folder)\n",
    "\n",
    "for file_name in images_files[:2]:\n",
    "    # random pipeline\n",
    "    model = random.choice(config['models'])\n",
    "    pipe = get_pipeline(model)\n",
    "    \n",
    "    # load image\n",
    "    image = load_image(image_path=images_folder / file_name, width=width)\n",
    "    \n",
    "    # perform processing\n",
    "    output_image = pipe(prompt=prompt, image=image, strength=strength, guidance_scale=guidance_scale).images[0]\n",
    "    \n",
    "    # show\n",
    "    fig, ax = plt.subplots(1,2)\n",
    "    ax[0].imshow(image)\n",
    "    ax[1].imshow(output_image)\n",
    "    \n",
    "    # store result\n",
    "    output_image.save(output_folder / file_name)"
   ]
  },
  {
   "cell_type": "code",
   "execution_count": null,
   "id": "b80ad4c5",
   "metadata": {},
   "outputs": [],
   "source": []
  }
 ],
 "metadata": {
  "kernelspec": {
   "display_name": "Python 3 (ipykernel)",
   "language": "python",
   "name": "python3"
  },
  "language_info": {
   "codemirror_mode": {
    "name": "ipython",
    "version": 3
   },
   "file_extension": ".py",
   "mimetype": "text/x-python",
   "name": "python",
   "nbconvert_exporter": "python",
   "pygments_lexer": "ipython3",
   "version": "3.11.0"
  }
 },
 "nbformat": 4,
 "nbformat_minor": 5
}
